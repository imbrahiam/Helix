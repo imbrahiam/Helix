{
 "cells": [
  {
   "cell_type": "code",
<<<<<<< HEAD
   "execution_count": 1,
   "metadata": {},
   "outputs": [
    {
     "data": {
      "text/html": [
       "<div>\n",
       "<style scoped>\n",
       "    .dataframe tbody tr th:only-of-type {\n",
       "        vertical-align: middle;\n",
       "    }\n",
       "\n",
       "    .dataframe tbody tr th {\n",
       "        vertical-align: top;\n",
       "    }\n",
       "\n",
       "    .dataframe thead th {\n",
       "        text-align: right;\n",
       "    }\n",
       "</style>\n",
       "<table border=\"1\" class=\"dataframe\">\n",
       "  <thead>\n",
       "    <tr style=\"text-align: right;\">\n",
       "      <th></th>\n",
       "      <th>País_origen</th>\n",
       "      <th>Valor_CIF_USD</th>\n",
       "    </tr>\n",
       "  </thead>\n",
       "  <tbody>\n",
       "    <tr>\n",
       "      <th>0</th>\n",
       "      <td>China</td>\n",
       "      <td>1.240852e+06</td>\n",
       "    </tr>\n",
       "    <tr>\n",
       "      <th>1</th>\n",
       "      <td>Estados Unidos de América</td>\n",
       "      <td>9.714181e+04</td>\n",
       "    </tr>\n",
       "    <tr>\n",
       "      <th>2</th>\n",
       "      <td>Japón</td>\n",
       "      <td>6.191358e+04</td>\n",
       "    </tr>\n",
       "    <tr>\n",
       "      <th>3</th>\n",
       "      <td>España</td>\n",
       "      <td>4.158280e+04</td>\n",
       "    </tr>\n",
       "    <tr>\n",
       "      <th>4</th>\n",
       "      <td>Canadá</td>\n",
       "      <td>1.212414e+04</td>\n",
       "    </tr>\n",
       "    <tr>\n",
       "      <th>5</th>\n",
       "      <td>Bélgica</td>\n",
       "      <td>7.262593e+02</td>\n",
       "    </tr>\n",
       "    <tr>\n",
       "      <th>6</th>\n",
       "      <td>México</td>\n",
       "      <td>1.695923e+02</td>\n",
       "    </tr>\n",
       "  </tbody>\n",
       "</table>\n",
       "</div>"
      ],
      "text/plain": [
       "                 País_origen  Valor_CIF_USD\n",
       "0                      China   1.240852e+06\n",
       "1  Estados Unidos de América   9.714181e+04\n",
       "2                      Japón   6.191358e+04\n",
       "3                     España   4.158280e+04\n",
       "4                     Canadá   1.212414e+04\n",
       "5                    Bélgica   7.262593e+02\n",
       "6                     México   1.695923e+02"
      ]
     },
     "execution_count": 1,
     "metadata": {},
     "output_type": "execute_result"
    }
   ],
=======
   "execution_count": null,
   "metadata": {},
   "outputs": [],
>>>>>>> bd041bd52e617c4fcb3ec1f7a95fe724c8bcce8b
   "source": [
    "import pandas as pd\n",
    "#Paises con mayores costos de importacion \n",
    "# Lee el archivo CSV\n",
    "df = pd.read_excel(r'..\\raw_data\\Perfil_EmpresasImpo_2022_WEB.xlsx',nrows=55)\n",
    "columna_valores_de_importacion = df['Valor_CIF_USD']\n",
    "paises = df['País_origen']\n",
    "# Muestra las primeras 5 filas de los datos\n",
    "df_grouped = df.groupby('País_origen')['Valor_CIF_USD'].sum()\n",
    "\n",
    "# Ordena los datos en orden descendente\n",
    "df_sorted = df_grouped.sort_values(ascending=False)\n",
    "\n",
    "# Convierte la serie en un DataFrame y reinicia el índice\n",
    "df_final = df_sorted.reset_index()\n",
    "\n",
    "# Muestra los países con los mayores precios de importación\n",
    "df_final\n"
   ]
  },
  {
   "cell_type": "code",
   "execution_count": null,
   "metadata": {},
   "outputs": [],
   "source": [
    "import matplotlib.pyplot as plt\n",
    "\n",
    "# Crea una figura y un conjunto de subtramas\n",
    "fig, ax = plt.subplots()\n",
    "\n",
    "# Crea un gráfico de barras con 'País_origen' en el eje x y 'Valor_CIF_USD' en el eje y\n",
    "ax.bar(df_final['País_origen'], df_final['Valor_CIF_USD'])\n",
    "\n",
    "# Establece el título y las etiquetas de los ejes\n",
    "ax.set_title('Costos de importación por país')\n",
    "ax.set_xlabel('País de origen')\n",
    "ax.set_ylabel('Valor CIF en USD')\n",
    "\n",
    "# Rota las etiquetas del eje x para una mejor visualización\n",
    "plt.xticks(rotation=90)\n",
    "\n",
    "# Muestra el gráfico\n",
    "plt.show()"
   ]
  }
 ],
 "metadata": {
  "kernelspec": {
   "display_name": "Python 3 (ipykernel)",
   "language": "python",
   "name": "python3"
  },
  "language_info": {
   "codemirror_mode": {
    "name": "ipython",
    "version": 3
   },
   "file_extension": ".py",
   "mimetype": "text/x-python",
   "name": "python",
   "nbconvert_exporter": "python",
   "pygments_lexer": "ipython3",
   "version": "3.12.2"
  }
 },
 "nbformat": 4,
 "nbformat_minor": 2
}
