{
 "cells": [
  {
   "cell_type": "code",
   "execution_count": null,
   "metadata": {},
   "outputs": [],
   "source": [
    "import pandas as pd\n",
    "#Paises con mayores costos de importacion \n",
    "# Lee el archivo CSV\n",
    "df = pd.read_excel(r'..\\raw_data\\Perfil_EmpresasImpo_2022_WEB.xlsx',nrows=55)\n",
    "columna_valores_de_importacion = df['Valor_CIF_USD']\n",
    "paises = df['País_origen']\n",
    "# Muestra las primeras 5 filas de los datos\n",
    "df_grouped = df.groupby('País_origen')['Valor_CIF_USD'].sum()\n",
    "\n",
    "# Ordena los datos en orden descendente\n",
    "df_sorted = df_grouped.sort_values(ascending=False)\n",
    "\n",
    "# Convierte la serie en un DataFrame y reinicia el índice\n",
    "df_final = df_sorted.reset_index()\n",
    "\n",
    "# Muestra los países con los mayores precios de importación\n",
    "print(df_final)\n"
   ]
  },
  {
   "cell_type": "code",
   "execution_count": null,
   "metadata": {},
   "outputs": [],
   "source": [
    "import matplotlib.pyplot as plt\n",
    "\n",
    "# Crea una figura y un conjunto de subtramas\n",
    "fig, ax = plt.subplots()\n",
    "\n",
    "# Crea un gráfico de barras con 'País_origen' en el eje x y 'Valor_CIF_USD' en el eje y\n",
    "ax.bar(df_final['País_origen'], df_final['Valor_CIF_USD'])\n",
    "\n",
    "# Establece el título y las etiquetas de los ejes\n",
    "ax.set_title('Costos de importación por país')\n",
    "ax.set_xlabel('País de origen')\n",
    "ax.set_ylabel('Valor CIF en USD')\n",
    "\n",
    "# Rota las etiquetas del eje x para una mejor visualización\n",
    "plt.xticks(rotation=90)\n",
    "\n",
    "# Muestra el gráfico\n",
    "plt.show()"
   ]
  }
 ],
 "metadata": {
  "kernelspec": {
   "display_name": "Python 3 (ipykernel)",
   "language": "python",
   "name": "python3"
  },
  "language_info": {
   "codemirror_mode": {
    "name": "ipython",
    "version": 3
   },
   "file_extension": ".py",
   "mimetype": "text/x-python",
   "name": "python",
   "nbconvert_exporter": "python",
   "pygments_lexer": "ipython3",
   "version": "3.11.5"
  }
 },
 "nbformat": 4,
 "nbformat_minor": 2
}
