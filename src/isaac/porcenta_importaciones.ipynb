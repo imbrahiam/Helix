{
 "cells": [
  {
   "cell_type": "code",
<<<<<<< HEAD
   "execution_count": 9,
   "metadata": {},
   "outputs": [
    {
     "data": {
      "text/html": [
       "<div>\n",
       "<style scoped>\n",
       "    .dataframe tbody tr th:only-of-type {\n",
       "        vertical-align: middle;\n",
       "    }\n",
       "\n",
       "    .dataframe tbody tr th {\n",
       "        vertical-align: top;\n",
       "    }\n",
       "\n",
       "    .dataframe thead th {\n",
       "        text-align: right;\n",
       "    }\n",
       "</style>\n",
       "<table border=\"1\" class=\"dataframe\">\n",
       "  <thead>\n",
       "    <tr style=\"text-align: right;\">\n",
       "      <th></th>\n",
       "      <th>País_origen</th>\n",
       "      <th>Porcentaje</th>\n",
       "    </tr>\n",
       "  </thead>\n",
       "  <tbody>\n",
       "    <tr>\n",
       "      <th>0</th>\n",
       "      <td>China</td>\n",
       "      <td>3.412426</td>\n",
       "    </tr>\n",
       "    <tr>\n",
       "      <th>1</th>\n",
       "      <td>Japón</td>\n",
       "      <td>1.064166</td>\n",
       "    </tr>\n",
       "    <tr>\n",
       "      <th>2</th>\n",
       "      <td>Canadá</td>\n",
       "      <td>0.833555</td>\n",
       "    </tr>\n",
       "    <tr>\n",
       "      <th>3</th>\n",
       "      <td>Estados Unidos de América</td>\n",
       "      <td>0.607151</td>\n",
       "    </tr>\n",
       "    <tr>\n",
       "      <th>4</th>\n",
       "      <td>España</td>\n",
       "      <td>0.238241</td>\n",
       "    </tr>\n",
       "    <tr>\n",
       "      <th>5</th>\n",
       "      <td>Bélgica</td>\n",
       "      <td>0.049932</td>\n",
       "    </tr>\n",
       "    <tr>\n",
       "      <th>6</th>\n",
       "      <td>México</td>\n",
       "      <td>0.011660</td>\n",
       "    </tr>\n",
       "  </tbody>\n",
       "</table>\n",
       "</div>"
      ],
      "text/plain": [
       "                 País_origen  Porcentaje\n",
       "0                      China    3.412426\n",
       "1                      Japón    1.064166\n",
       "2                     Canadá    0.833555\n",
       "3  Estados Unidos de América    0.607151\n",
       "4                     España    0.238241\n",
       "5                    Bélgica    0.049932\n",
       "6                     México    0.011660"
      ]
     },
     "execution_count": 9,
     "metadata": {},
     "output_type": "execute_result"
    }
   ],
=======
   "execution_count": null,
   "metadata": {},
   "outputs": [],
>>>>>>> bd041bd52e617c4fcb3ec1f7a95fe724c8bcce8b
   "source": [
    "import pandas as pd\n",
    "from utils import *\n",
    "\n",
    "# Carga el archivo de Excel\n",
    "path = get_arch()\n",
    "df = pd.read_excel(path, nrows=55)\n",
    "\n",
    "# Obtiene las columnas de interés\n",
    "columna_valores_de_importacion = df['Valor_CIF_USD']\n",
    "paises = df['País_origen']\n",
    "\n",
    "# Calcula el total de las importaciones\n",
    "total_importaciones = df['Valor_CIF_USD'].sum()\n",
    "\n",
    "# Calcula el promedio de importación por país\n",
    "df_grouped = df.groupby('País_origen')['Valor_CIF_USD'].mean()\n",
    "\n",
    "# Calcula el porcentaje que cada país contribuye al total\n",
    "df_porcentaje = (df_grouped / total_importaciones) * 100\n",
    "\n",
    "# Ordena los datos en orden descendente\n",
    "df_sorted = df_porcentaje.sort_values(ascending=False)\n",
    "\n",
    "# Convierte la serie en un DataFrame y reinicia el índice\n",
    "df_final = df_sorted.reset_index()\n",
    "\n",
    "# Cambia el nombre de la columna 'Valor_CIF_USD' a 'Porcentaje'\n",
    "df_final.columns = ['País_origen', 'Porcentaje']\n",
    "\n",
    "# Muestra el porcentaje de importación por cada país\n",
    "df_final\n"
   ]
  },
  {
   "cell_type": "code",
<<<<<<< HEAD
   "execution_count": 5,
=======
   "execution_count": null,
>>>>>>> bd041bd52e617c4fcb3ec1f7a95fe724c8bcce8b
   "metadata": {},
   "outputs": [],
   "source": [
    "import matplotlib.pyplot as plt\n",
    "\n",
    "\n",
    "\n",
    "import matplotlib.pyplot as plt\n",
    "\n",
    "# Crea la figura\n",
    "plt.figure(figsize=(10, 8))\n",
    "\n",
    "# Genera el gráfico de pastel\n",
    "plt.pie(df_final['Porcentaje'], labels=df_final['País_origen'], autopct='%1.1f%%', startangle=140)\n",
    "\n",
    "# Establece el título del gráfico\n",
    "plt.title('Porcentaje de Importación por País')\n",
    "\n",
    "# Asegura que el gráfico de pastel sea un círculo perfecto\n",
    "plt.axis('equal')\n",
    "\n",
    "# Muestra el gráfico\n",
    "plt.show()\n"
   ]
  }
 ],
 "metadata": {
  "kernelspec": {
   "display_name": "Python 3 (ipykernel)",
   "language": "python",
   "name": "python3"
  },
  "language_info": {
   "codemirror_mode": {
    "name": "ipython",
    "version": 3
   },
   "file_extension": ".py",
   "mimetype": "text/x-python",
   "name": "python",
   "nbconvert_exporter": "python",
   "pygments_lexer": "ipython3",
   "version": "3.12.2"
  }
 },
 "nbformat": 4,
 "nbformat_minor": 2
}
