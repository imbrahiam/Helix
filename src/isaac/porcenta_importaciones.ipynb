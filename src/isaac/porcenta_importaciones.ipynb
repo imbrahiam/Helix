{
 "cells": [
  {
   "cell_type": "code",
   "execution_count": null,
   "metadata": {},
   "outputs": [],
   "source": [
    "import pandas as pd\n",
    "\n",
    "df = pd.read_excel(r'..\\raw_data\\Perfil_EmpresasImpo_2022_WEB.xlsx',nrows=55)\n",
    "columna_valores_de_importacion = df['Valor_CIF_USD']\n",
    "paises = df['País_origen']\n",
    "\n",
    "# Calcula el total de las importaciones\n",
    "total_importaciones = df['Valor_CIF_USD'].sum()\n",
    "\n",
    "# Calcula el promedio de importación por país\n",
    "df_grouped = df.groupby('País_origen')['Valor_CIF_USD'].mean()\n",
    "\n",
    "# Calcula el porcentaje que cada país contribuye al total\n",
    "df_porcentaje = (df_grouped / total_importaciones) * 100\n",
    "\n",
    "# Ordena los datos en orden descendente\n",
    "df_sorted = df_porcentaje.sort_values(ascending=False)\n",
    "\n",
    "# Convierte la serie en un DataFrame y reinicia el índice\n",
    "df_final = df_sorted.reset_index()\n",
    "\n",
    "# Cambia el nombre de la columna 'Valor_CIF_USD' a 'Porcentaje'\n",
    "df_final.columns = ['País_origen', 'Porcentaje']\n",
    "\n",
    "# Muestra el porcentaje de importación por cada país\n",
    "print(df_final)"
   ]
  },
  {
   "cell_type": "code",
   "execution_count": null,
   "metadata": {},
   "outputs": [],
   "source": [
    "import matplotlib.pyplot as plt\n",
    "\n",
    "\n",
    "\n",
    "# Crea un gráfico de pastel\n",
    "plt.figure(figsize=(10, 8))\n",
    "plt.pie(df_final['Porcentaje'], labels=df_final['País_origen'], autopct='%1.1f%%', startangle=140)\n",
    "plt.title('Porcentaje de Importación por País')\n",
    "plt.axis('equal')  # Asegura que el gráfico de pastel sea un círculo perfecto\n",
    "\n",
    "# Muestra el gráfico\n",
    "plt.show()"
   ]
  }
 ],
 "metadata": {
  "kernelspec": {
   "display_name": "Python 3 (ipykernel)",
   "language": "python",
   "name": "python3"
  },
  "language_info": {
   "codemirror_mode": {
    "name": "ipython",
    "version": 3
   },
   "file_extension": ".py",
   "mimetype": "text/x-python",
   "name": "python",
   "nbconvert_exporter": "python",
   "pygments_lexer": "ipython3",
   "version": "3.11.5"
  }
 },
 "nbformat": 4,
 "nbformat_minor": 2
}
