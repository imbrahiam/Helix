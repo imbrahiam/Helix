{
 "cells": [
  {
   "cell_type": "code",
   "execution_count": null,
   "metadata": {},
   "outputs": [],
   "source": [
    "# Importaciones de las librerias necesarias\n",
    "#%pip install xlrd\n",
    "#%pip install pandas\n",
    "#%pip install openpyxl\n",
    "\n",
    "import pandas as pd\n",
    "\n",
    "file_path_Datos = r'../raw_data/Perfil_Empresas_Imp_2019_Web.xlsx'\n",
    "\n",
    "file_path = r'raw_data'\n",
    "\n",
    "columnas_a_leer = ['Cod_Provincia', 'Provincia_Ubicacion', 'Valor_FOB_USD', 'Valor_CIF_USD', 'Capitulo_desc_SA']\n",
    "\n",
    "#Creación del dataframe con todos los datos\n",
    "\n",
    "df = pd.read_excel(file_path_Datos, usecols=columnas_a_leer)\n",
    "\n",
    "#Creación de dataframe sumando todos los costos de importación por provincia \n",
    "df_grouped = df.groupby('Provincia_Ubicacion')['Valor_CIF_USD'].sum().reset_index()\n",
    "\n",
    "# Ahora 'Valor_CIF_USD' es una columna en 'df_grouped' y podemos aplicar el formato\n",
    "df_grouped['Valor_CIF_USD'] = df_grouped['Valor_CIF_USD'].apply(lambda x: '{:.2f}'.format(x))\n",
    "\n",
    "print(df_grouped)\n",
    "\n",
    "\n"
   ]
  },
  {
   "cell_type": "code",
   "execution_count": null,
   "metadata": {},
   "outputs": [],
   "source": [
    "\n",
    "# Conviersión del 'Valor_CIF_USD' a tipo numérico, ignorando errores\n",
    "df_grouped['Valor_CIF_USD'] = pd.to_numeric(df_grouped['Valor_CIF_USD'], errors='coerce')\n",
    "\n",
    "# Calculo del costo total de las importaciones\n",
    "total_costo_importaciones = df_grouped['Valor_CIF_USD'].sum()\n",
    "\n",
    "# Impresión del costo total de las importaciones en notación normal\n",
    "print(f\"Total Costo Importaciones: {total_costo_importaciones:.2f}\")\n",
    "\n",
    "# Calculo del porcentaje del costo de importación por provincia\n",
    "df_grouped['Porcentaje'] = (df_grouped['Valor_CIF_USD'] / total_costo_importaciones) * 100\n",
    "\n",
    "# Ordenamiento del DataFrame por 'Valor_CIF_USD' en orden ascendente\n",
    "df_grouped_sorted = df_grouped.sort_values('Valor_CIF_USD', ascending=False).reset_index()\n",
    "\n",
    "# Configuración de la opción de visualización para mostrar el formato float en lugar de notación científica\n",
    "pd.set_option('display.float_format', lambda x: '%.2f' % x)\n",
    "\n",
    "# Impresión del DataFrame para verificar los resultados\n",
    "print(df_grouped_sorted[['Provincia_Ubicacion', 'Valor_CIF_USD', 'Porcentaje']])\n"
   ]
  },
  {
   "cell_type": "code",
   "execution_count": null,
   "metadata": {},
   "outputs": [],
   "source": [
    "import matplotlib.pyplot as plt\n",
    "\n",
    "plt.figure(figsize=(10, 6))  # Tamaño del gráfico (opcional)\n",
    "\n",
    "# Creación del gráfico de barras con los datos ordenados\n",
    "plt.bar(df_grouped_sorted['Provincia_Ubicacion'], df_grouped_sorted['Porcentaje'], width=0.6)\n",
    "\n",
    "# Rotación de los nombres de las etiquetas del eje X a vertical\n",
    "plt.xticks(rotation=90)\n",
    "\n",
    "# Personalización del gráfico (opcional)\n",
    "plt.ylabel('Porcentaje')\n",
    "plt.xlabel('Provincia')\n",
    "plt.title('Porcentaje de Valor CIF por Provincia (Ordenado)')\n",
    "\n",
    "# for index, row in df_grouped_sorted.iterrows():\n",
    "#      plt.text(index, row['Porcentaje'], f\"{row['Porcentaje']:.2f}%\", ha='center', va='bottom')\n",
    "\n",
    "# creación del gráfico\n",
    "plt.tight_layout()  # Ajusta automáticamente los parámetros del subplot para que el gráfico se ajuste al área de dibujo\n",
    "plt.show()"
   ]
  }
 ],
 "metadata": {
  "kernelspec": {
   "display_name": "Python 3 (ipykernel)",
   "language": "python",
   "name": "python3"
  },
  "language_info": {
   "codemirror_mode": {
    "name": "ipython",
    "version": 3
   },
   "file_extension": ".py",
   "mimetype": "text/x-python",
   "name": "python",
   "nbconvert_exporter": "python",
   "pygments_lexer": "ipython3",
   "version": "3.11.5"
  }
 },
 "nbformat": 4,
 "nbformat_minor": 2
}
