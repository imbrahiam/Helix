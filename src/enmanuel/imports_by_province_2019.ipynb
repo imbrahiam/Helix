{
 "cells": [
  {
   "cell_type": "code",
   "execution_count": 3,
   "metadata": {},
   "outputs": [],
   "source": [
    "# Importaciones de las librerias necesarias\n",
    "#%pip install xlrd\n",
    "#%pip install pandas\n",
    "#%pip install openpyxl\n",
    "\n",
    "import pandas as pd\n",
    "\n",
    "file_path_Datos = r'..\\raw_data\\Perfil_EmpresasImpo_2022_WEB.xlsx'\n",
    "\n",
    "file_path = r'raw_data'\n",
    "\n",
    "columnas_a_leer = ['Cod_Provincia', 'Provincia_Ubicacion', 'Valor_FOB_USD', 'Valor_CIF_USD', 'Capitulo_desc_SA']\n",
    "\n",
    "#Creación del dataframe con todos los datos\n",
    "\n",
    "df = pd.read_excel(file_path_Datos, usecols=columnas_a_leer)\n"
   ]
  },
  {
   "cell_type": "code",
   "execution_count": 11,
   "metadata": {},
   "outputs": [
    {
     "name": "stdout",
     "output_type": "stream",
     "text": [
      "       Provincia_Ubicacion  Valor_CIF_USD\n",
      "0        Distrito Nacional  7644229241.84\n",
      "1            Santo Domingo  4206379358.41\n",
      "2            San Cristóbal  2233699515.71\n",
      "3                 Santiago  1929012557.09\n",
      "4                La Romana   430844468.24\n",
      "5                Espaillat   299238329.25\n",
      "6     San Pedro de Macorís   290249046.37\n",
      "7          Sánchez Ramírez   274652288.41\n",
      "8          Sin información   262509107.19\n",
      "9                  La Vega   240022682.64\n",
      "10          Monseñor Nouel   209255885.43\n",
      "11           La Altagracia   139137773.38\n",
      "12                Valverde    57885736.72\n",
      "13            Puerto Plata    54202331.35\n",
      "14            Monte Cristi    51835440.65\n",
      "15                  Duarte    43291909.24\n",
      "16                 Peravia    34871460.95\n",
      "17                Barahona    31394659.78\n",
      "18                    Azua    23372836.40\n",
      "19        Hermanas Mirabal    22518311.31\n",
      "20              Pedernales    10790190.50\n",
      "21  María Trinidad Sánchez     8656212.58\n",
      "22      Santiago Rodríguez     7864693.73\n",
      "23           Independencia     6053746.75\n",
      "24             Monte Plata     5702540.71\n",
      "25                  Samaná     5648524.13\n",
      "26                 Dajabón     5591093.13\n",
      "27                San Juan     5436547.92\n",
      "28              Elías Piña     3200481.30\n",
      "29              Hato Mayor     2424846.03\n",
      "30        San José de Ocoa     1517486.58\n",
      "31                El Seibo      517791.43\n",
      "32                 Baoruco       66582.70\n"
     ]
    }
   ],
   "source": [
    "#Creación de dataframe sumando todos los costos de importación por provincia \n",
    "df_grouped = df.groupby('Provincia_Ubicacion')['Valor_CIF_USD'].sum().reset_index()\n",
    "\n",
    "df_grouped_sorted_1 = df_grouped.sort_values('Valor_CIF_USD', ascending=False).reset_index()\n",
    "# Ahora 'Valor_CIF_USD' es una columna en 'df_grouped' y podemos aplicar el formato\n",
    "#df_grouped['Valor_CIF_USD'] = df_grouped['Valor_CIF_USD'].apply(lambda x: '{:.2f}'.format(x))\n",
    "\n",
    "\n",
    "df_grouped_sorted_1 = df_grouped_sorted_1.drop(columns=['index'])\n",
    "\n",
    "# Ahora 'Valor_CIF_USD' es una columna en 'df_grouped' y podemos aplicar el formato\n",
    "df_grouped_sorted_1['Valor_CIF_USD'] = df_grouped_sorted_1['Valor_CIF_USD'].apply(lambda x: '{:.2f}'.format(x))\n",
    "\n",
    "\n",
    "print(df_grouped_sorted_1)"
   ]
  },
  {
   "cell_type": "code",
   "execution_count": 15,
   "metadata": {},
   "outputs": [
    {
     "name": "stdout",
     "output_type": "stream",
     "text": [
      "Total Costo Importaciones: 18542073677.87\n",
      "       Provincia_Ubicacion  Valor_CIF_USD  Porcentaje\n",
      "0        Distrito Nacional  7644229241.84       41.23\n",
      "1            Santo Domingo  4206379358.41       22.69\n",
      "2            San Cristóbal  2233699515.71       12.05\n",
      "3                 Santiago  1929012557.09       10.40\n",
      "4                La Romana   430844468.24        2.32\n",
      "5                Espaillat   299238329.25        1.61\n",
      "6     San Pedro de Macorís   290249046.37        1.57\n",
      "7          Sánchez Ramírez   274652288.41        1.48\n",
      "8          Sin información   262509107.19        1.42\n",
      "9                  La Vega   240022682.64        1.29\n",
      "10          Monseñor Nouel   209255885.43        1.13\n",
      "11           La Altagracia   139137773.38        0.75\n",
      "12                Valverde    57885736.72        0.31\n",
      "13            Puerto Plata    54202331.35        0.29\n",
      "14            Monte Cristi    51835440.65        0.28\n",
      "15                  Duarte    43291909.24        0.23\n",
      "16                 Peravia    34871460.95        0.19\n",
      "17                Barahona    31394659.78        0.17\n",
      "18                    Azua    23372836.40        0.13\n",
      "19        Hermanas Mirabal    22518311.31        0.12\n",
      "20              Pedernales    10790190.50        0.06\n",
      "21  María Trinidad Sánchez     8656212.58        0.05\n",
      "22      Santiago Rodríguez     7864693.73        0.04\n",
      "23           Independencia     6053746.75        0.03\n",
      "24             Monte Plata     5702540.71        0.03\n",
      "25                  Samaná     5648524.13        0.03\n",
      "26                 Dajabón     5591093.13        0.03\n",
      "27                San Juan     5436547.92        0.03\n",
      "28              Elías Piña     3200481.30        0.02\n",
      "29              Hato Mayor     2424846.03        0.01\n",
      "30        San José de Ocoa     1517486.58        0.01\n",
      "31                El Seibo      517791.43        0.00\n",
      "32                 Baoruco       66582.70        0.00\n"
     ]
    }
   ],
   "source": [
    "\n",
    "# Conviersión del 'Valor_CIF_USD' a tipo numérico, ignorando errores\n",
    "df_grouped['Valor_CIF_USD'] = pd.to_numeric(df_grouped['Valor_CIF_USD'], errors='coerce')\n",
    "\n",
    "# Calculo del costo total de las importaciones\n",
    "total_costo_importaciones = df_grouped['Valor_CIF_USD'].sum()\n",
    "\n",
    "# Impresión del costo total de las importaciones en notación normal\n",
    "print(f\"Total Costo Importaciones: {total_costo_importaciones:.2f}\")\n",
    "\n",
    "# Calculo del porcentaje del costo de importación por provincia\n",
    "df_grouped['Porcentaje'] = (df_grouped['Valor_CIF_USD'] / total_costo_importaciones) * 100\n",
    "\n",
    "# Ordenamiento del DataFrame por 'Valor_CIF_USD' en orden ascendente\n",
    "df_grouped_sorted = df_grouped.sort_values('Valor_CIF_USD', ascending=False).reset_index()\n",
    "\n",
    "# Configuración de la opción de visualización para mostrar el formato float en lugar de notación científica\n",
    "pd.set_option('display.float_format', lambda x: '%.2f' % x)\n",
    "\n",
    "# Impresión del DataFrame para verificar los resultados\n",
    "print(df_grouped_sorted[['Provincia_Ubicacion', 'Valor_CIF_USD', 'Porcentaje']])\n"
   ]
  },
  {
   "cell_type": "code",
   "execution_count": 1,
   "metadata": {},
   "outputs": [
    {
     "ename": "NameError",
     "evalue": "name 'df_grouped_sorted' is not defined",
     "output_type": "error",
     "traceback": [
      "\u001b[1;31m---------------------------------------------------------------------------\u001b[0m",
      "\u001b[1;31mNameError\u001b[0m                                 Traceback (most recent call last)",
      "Cell \u001b[1;32mIn[1], line 6\u001b[0m\n\u001b[0;32m      3\u001b[0m plt\u001b[38;5;241m.\u001b[39mfigure(figsize\u001b[38;5;241m=\u001b[39m(\u001b[38;5;241m10\u001b[39m, \u001b[38;5;241m6\u001b[39m))  \u001b[38;5;66;03m# Tamaño del gráfico (opcional)\u001b[39;00m\n\u001b[0;32m      5\u001b[0m \u001b[38;5;66;03m# Creación del gráfico de barras con los datos ordenados\u001b[39;00m\n\u001b[1;32m----> 6\u001b[0m plt\u001b[38;5;241m.\u001b[39mbar(\u001b[43mdf_grouped_sorted\u001b[49m[\u001b[38;5;124m'\u001b[39m\u001b[38;5;124mProvincia_Ubicacion\u001b[39m\u001b[38;5;124m'\u001b[39m], df_grouped_sorted[\u001b[38;5;124m'\u001b[39m\u001b[38;5;124mPorcentaje\u001b[39m\u001b[38;5;124m'\u001b[39m], width\u001b[38;5;241m=\u001b[39m\u001b[38;5;241m0.6\u001b[39m)\n\u001b[0;32m      8\u001b[0m \u001b[38;5;66;03m# Rotación de los nombres de las etiquetas del eje X a vertical\u001b[39;00m\n\u001b[0;32m      9\u001b[0m plt\u001b[38;5;241m.\u001b[39mxticks(rotation\u001b[38;5;241m=\u001b[39m\u001b[38;5;241m90\u001b[39m)\n",
      "\u001b[1;31mNameError\u001b[0m: name 'df_grouped_sorted' is not defined"
     ]
    },
    {
     "data": {
      "text/plain": [
       "<Figure size 1000x600 with 0 Axes>"
      ]
     },
     "metadata": {},
     "output_type": "display_data"
    }
   ],
   "source": [
    "import matplotlib.pyplot as plt\n",
    "\n",
    "plt.figure(figsize=(10, 6))  # Tamaño del gráfico (opcional)\n",
    "\n",
    "# Creación del gráfico de barras con los datos ordenados\n",
    "plt.bar(df_grouped_sorted['Provincia_Ubicacion'], df_grouped_sorted['Porcentaje'], width=0.6)\n",
    "\n",
    "# Rotación de los nombres de las etiquetas del eje X a vertical\n",
    "plt.xticks(rotation=90)\n",
    "\n",
    "# Personalización del gráfico (opcional)\n",
    "plt.ylabel('Porcentaje')\n",
    "plt.xlabel('Provincia')\n",
    "plt.title('Porcentaje de Valor CIF por Provincia 2019')\n",
    "\n",
    "# for index, row in df_grouped_sorted.iterrows():\n",
    "#      plt.text(index, row['Porcentaje'], f\"{row['Porcentaje']:.2f}%\", ha='center', va='bottom')\n",
    "\n",
    "# creación del gráfico\n",
    "plt.tight_layout()  # Ajusta automáticamente los parámetros del subplot para que el gráfico se ajuste al área de dibujo\n",
    "plt.show()"
   ]
  }
 ],
 "metadata": {
  "kernelspec": {
   "display_name": "Python 3",
   "language": "python",
   "name": "python3"
  },
  "language_info": {
   "codemirror_mode": {
    "name": "ipython",
    "version": 3
   },
   "file_extension": ".py",
   "mimetype": "text/x-python",
   "name": "python",
   "nbconvert_exporter": "python",
   "pygments_lexer": "ipython3",
   "version": "3.12.1"
  }
 },
 "nbformat": 4,
 "nbformat_minor": 2
}
