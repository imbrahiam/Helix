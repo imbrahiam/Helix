{
 "cells": [
  {
   "cell_type": "code",
   "execution_count": 12,
   "id": "59c6b931",
   "metadata": {},
   "outputs": [],
   "source": [
    "%matplotlib inline\n",
    "from deep_translator import GoogleTranslator\n",
    "from datetime import datetime as dt\n",
    "import matplotlib.pyplot as plt\n",
    "import matplotlib.font_manager\n",
    "import pandas as pd\n",
    "import numpy as np\n",
    "import folium as f\n",
    "import openpyxl\n",
    "import json\n",
    "import os\n",
    "\n",
    "def write_csv(df, path):\n",
    "    df.to_csv(path, index=True, header=True)\n",
    "    \n",
    "def open_csv(path):\n",
    "    return pd.read_csv(path)\n",
    "\n",
    "def open_json(path):\n",
    "    return json.load(open(path))\n",
    "\n",
    "def get_date():\n",
    "    return str(dt.now().strftime(\"%Y-%m-%d-%H-%M-%S\"))\n",
    "\n",
    "def save_map(m):\n",
    "    m.save(f\"{output_path}\\map.html\")\n",
    "\n",
    "def save_plot(plt, direction):\n",
    "    return \"Image saved\" if plt.savefig(f'{output_path}\\\\{direction}_barplot-{get_date()}.png', dpi=1200, bbox_inches='tight') else None\n",
    "\n",
    "def set_output(folder):\n",
    "    if not os.path.isdir(folder):\n",
    "        os.mkdir(folder)\n",
    "        return True\n",
    "        \n",
    "# Imports generales y outputs definidas por cada participante.\n",
    "\n",
    "# output_path = 'output/brahiam'\n",
    "# geojson_path = 'maps/world/world-administrative-boundaries.geojson'\n",
    "# save_path = f'{output_path}/countries_imports.csv'"
   ]
  },
  {
   "cell_type": "code",
   "execution_count": null,
   "id": "2b5e58aa",
   "metadata": {},
   "outputs": [],
   "source": []
  }
 ],
 "metadata": {
  "kernelspec": {
   "display_name": "Python 3 (ipykernel)",
   "language": "python",
   "name": "python3"
  },
  "language_info": {
   "codemirror_mode": {
    "name": "ipython",
    "version": 3
   },
   "file_extension": ".py",
   "mimetype": "text/x-python",
   "name": "python",
   "nbconvert_exporter": "python",
   "pygments_lexer": "ipython3",
   "version": "3.11.5"
  }
 },
 "nbformat": 4,
 "nbformat_minor": 5
}
