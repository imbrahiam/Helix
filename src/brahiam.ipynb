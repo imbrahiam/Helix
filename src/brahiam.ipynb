{
 "cells": [
  {
   "cell_type": "raw",
   "id": "8c2d8251",
   "metadata": {},
   "source": [
    "from deep_translator import GoogleTranslator\n",
    "from datetime import datetime as dt\n",
    "import matplotlib.pyplot as plt\n",
    "import matplotlib.font_manager\n",
    "import pandas as pd\n",
    "import numpy as np\n",
    "import folium as f\n",
    "import openpyxl\n",
    "import json\n",
    "%matplotlib inline\n",
    "\n",
    "output_path = 'output'\n",
    "geojson_path = 'maps/world/world-administrative-boundaries.geojson'\n",
    "save_path = f'{output_path}/countries_imports.csv'\n",
    "\n",
    "def write_csv(df, path):\n",
    "    df.to_csv(path, index=True, header=True)\n",
    "    \n",
    "def open_csv(path):\n",
    "    return pd.read_csv(path)\n",
    "\n",
    "def open_json(path):\n",
    "    return json.load(open(path))\n",
    "\n",
    "def get_date():\n",
    "    return str(dt.now().strftime(\"%Y-%m-%d-%H-%M-%S\"))\n",
    "\n",
    "def save_map(m):\n",
    "    m.save(f\"{output_path}\\map.html\")\n",
    "\n",
    "def save_plot(plt, direction):\n",
    "    return \"Image saved\" if plt.savefig(f'{output_path}\\\\{direction}_barplot-{get_date()}.png', dpi=1200, bbox_inches='tight') else None"
   ]
  },
  {
   "cell_type": "code",
   "execution_count": 4,
   "id": "e4d73a05",
   "metadata": {
    "scrolled": true
   },
   "outputs": [],
   "source": [
    "import import_ipynb\n",
    "from imports import *\n",
    "\n",
    "folder = 'brahiam'\n",
    "set_output(f'output/{folder}')\n",
    "\n",
    "output_path = f'output/{folder}'\n",
    "geojson_path = 'maps/world/world-administrative-boundaries.geojson'\n",
    "save_path = f'{output_path}/countries_imports.csv'"
   ]
  },
  {
   "cell_type": "code",
   "execution_count": null,
   "id": "39b872e4",
   "metadata": {},
   "outputs": [],
   "source": [
    "# Reading\n",
    "path = 'raw_data/Perfil_EmpresasImpo_2022_WEB.xlsx'\n",
    "df = pd.read_excel(path, engine='openpyxl')"
   ]
  },
  {
   "cell_type": "code",
   "execution_count": null,
   "id": "41af5e39",
   "metadata": {},
   "outputs": [],
   "source": [
    "# Cleaning \n",
    "df = pd.DataFrame(df['País_origen'].value_counts())\n",
    "df.dropna()\n",
    "\n",
    "# Modificaré las columnas con rename(), así que no coloco los países como índices.\n",
    "df = df.reset_index()\n",
    "\n",
    "# Filtering\n",
    "mask = (df['País_origen'] == 'Sin información') | (df['País_origen'] == 'República Dominicana')\n",
    "df = df[~mask]\n",
    "df.rename(columns={\"País_origen\":\"Country\", \"count\":\"Total_imports\"}, inplace=True)\n",
    "df"
   ]
  },
  {
   "cell_type": "code",
   "execution_count": null,
   "id": "b4dbeb07",
   "metadata": {},
   "outputs": [],
   "source": [
    "# Pruebas con los nombres de algunos países\n",
    "# dictionary={'ä':'a','ö':'o','Ä':'A','å':'a', 'Å': 'a', 'ü': 'u'}\n",
    "# df['Country'] = df['Country'].replace(dictionary, regex=True, inplace=True)"
   ]
  },
  {
   "cell_type": "code",
   "execution_count": null,
   "id": "b106193f",
   "metadata": {},
   "outputs": [],
   "source": [
    "# Country column translation in order to match geojson countries for displaying the data on the map.\n",
    "df['Country'] = df['Country'].apply(lambda x: str(GoogleTranslator(source='es', target='en').translate(x)))\n",
    "df['Country'] = df['Country'].replace(['The Savior', 'Türkiye'], ['El Salvador', 'Turkey'])\n",
    "df['Country'] = df['Country'].apply(lambda x: str(x.split('(')[0].strip()))\n",
    "\n",
    "df"
   ]
  },
  {
   "cell_type": "code",
   "execution_count": null,
   "id": "152e5af2",
   "metadata": {},
   "outputs": [],
   "source": [
    "# Setting Country as the DataFrame index.\n",
    "df.set_index('Country', inplace=True)\n",
    "df"
   ]
  },
  {
   "cell_type": "code",
   "execution_count": null,
   "id": "113a69ca",
   "metadata": {},
   "outputs": [],
   "source": [
    "# Saving processed data\n",
    "write_csv(df, save_path)"
   ]
  },
  {
   "cell_type": "code",
   "execution_count": null,
   "id": "e6c59fb8",
   "metadata": {},
   "outputs": [],
   "source": [
    "# Ahora trabajaré con la data procesada.\n",
    "df = open_csv(save_path)\n",
    "df.set_index('Country', inplace=True)\n",
    "\n",
    "# Organizamos la data de manera descendente.\n",
    "df = df.sort_values(by='Total_imports', ascending=False)\n",
    "df"
   ]
  },
  {
   "cell_type": "code",
   "execution_count": null,
   "id": "8a814245",
   "metadata": {},
   "outputs": [],
   "source": [
    "# Horizontal Bars Plot\n",
    "fig, ax = plt.subplots()\n",
    "bp = df[:10] # Top 10\n",
    "\n",
    "# Save the chart so we can loop through the bars below.\n",
    "bars = ax.bar(\n",
    "    x=np.arange(bp.size),\n",
    "    height=bp['Total_imports'],\n",
    "    tick_label=bp.index\n",
    ")\n",
    "\n",
    "# Axis formatting.\n",
    "ax.spines['top'].set_visible(False)\n",
    "ax.spines['right'].set_visible(False)\n",
    "ax.spines['left'].set_visible(False)\n",
    "ax.spines['bottom'].set_color('#DDDDDD')\n",
    "ax.tick_params(bottom=False, left=False)\n",
    "ax.set_axisbelow(True)\n",
    "ax.yaxis.grid(True, color='#EEEEEE')\n",
    "ax.xaxis.grid(False)\n",
    "\n",
    "# Add text annotations to the top of the bars.\n",
    "bar_color = bars[0].get_facecolor()\n",
    "for bar in bars:\n",
    "  ax.text(\n",
    "      bar.get_x() + bar.get_width() / 2,\n",
    "      bar.get_height() + 0.3,\n",
    "      round(bar.get_height(), 1),\n",
    "      horizontalalignment='center',\n",
    "      verticalalignment='bottom',\n",
    "      color=bar_color,\n",
    "      weight='bold'\n",
    "  )\n",
    "\n",
    "# Add labels and a title.\n",
    "ax.set_xlabel('País de origen (p)', labelpad=15, color='#333333')\n",
    "ax.set_ylabel('Cantidad de importaciones (n)', labelpad=15, color='#333333')\n",
    "ax.set_title('Importaciones de mercancía [2022]', pad=15, color='#333333',\n",
    "             weight='bold')\n",
    "\n",
    "ax.margins(0.01, None)\n",
    "fig.autofmt_xdate()\n",
    "fig.tight_layout()\n",
    "save_plot(fig, 'vertical')"
   ]
  },
  {
   "cell_type": "code",
   "execution_count": null,
   "id": "b3814b99",
   "metadata": {},
   "outputs": [],
   "source": [
    "# Ordenamos de manera ascendente para graficar de abajo hacia arriba.\n",
    "bp = bp.sort_values(by='Total_imports', ascending=True)\n",
    "\n",
    "# Spliting data for x and y.\n",
    "names = bp.index\n",
    "values = bp['Total_imports']\n",
    "lim = bp['Total_imports'][-1] * 1.1\n",
    "\n",
    "# Setting font\n",
    "plt.rcParams['font.family'] = 'DejaVu Sans'\n",
    "plt.rcParams['font.sans-serif'] = 'DejaVu Sans'\n",
    "\n",
    "# Set the style of the axes and the text color\n",
    "plt.rcParams['axes.edgecolor']='#333F4B'\n",
    "plt.rcParams['axes.linewidth']=0.8\n",
    "plt.rcParams['xtick.color']='#333F4B'\n",
    "plt.rcParams['ytick.color']='#333F4B'\n",
    "plt.rcParams['text.color']='#333F4B'\n",
    "\n",
    "# Numeric placeholder for the y axis\n",
    "my_range=list(range(1, len(bp.index)+1))\n",
    "\n",
    "fig, ax = plt.subplots(figsize=(5,3.5))\n",
    "\n",
    "# Create for each expense type an horizontal line that starts at x = 0 with the length \n",
    "# represented by the specific expense percentage value.\n",
    "plt.hlines(y=my_range, xmin=0, xmax=bp['Total_imports'], color='#007ACC', alpha=0.2, linewidth=5)\n",
    "\n",
    "# create for each expense type a dot at the level of the expense percentage value\n",
    "plt.plot(bp['Total_imports'], my_range, \"o\", markersize=5, color='#007ACC', alpha=0.6)\n",
    "\n",
    "# set labels\n",
    "ax.set_xlabel('Importaciones', fontsize=15, fontweight='black', color = '#333F4B')\n",
    "ax.set_ylabel('')\n",
    "\n",
    "# set axis\n",
    "ax.tick_params(axis='both', which='major', labelsize=12)\n",
    "plt.yticks(my_range, bp.index)\n",
    "\n",
    "# add an horizonal label for the y axis \n",
    "fig.text(-0.23, 0.96, 'País de Origen', fontsize=15, fontweight='black', color = '#333F4B')\n",
    "\n",
    "# change the style of the axis spines\n",
    "ax.spines['top'].set_visible(False)\n",
    "ax.spines['right'].set_visible(False)\n",
    "\n",
    "ax.spines['left'].set_bounds((1, len(my_range)))\n",
    "ax.set_xlim(0, lim)\n",
    "\n",
    "ax.spines['left'].set_position(('outward', 8))\n",
    "ax.spines['bottom'].set_position(('outward', 5))\n",
    "\n",
    "save_plot(plt, 'horizontal')"
   ]
  },
  {
   "cell_type": "code",
   "execution_count": null,
   "id": "f6473654",
   "metadata": {},
   "outputs": [],
   "source": [
    "# Displaying the data on the map.\n",
    "center = [35.762887,84.083132]\n",
    "mapa = f.Map(location=center, zoom_start=2,\n",
    "            min_zoom=1, max_bounds=True,\n",
    "            min_lat=-84, min_lon=-175,\n",
    "            max_lat=84,  max_lon=187,\n",
    "            control_scale=True,\n",
    "            tiles=\"cartodb positron\"\n",
    "    )\n",
    "\n",
    "file_json = geojson_path\n",
    "data_geojson = open_json(file_json)\n",
    "\n",
    "f.Choropleth(geo_data=data_geojson,\n",
    "                name = 'Importaciones',\n",
    "                data=df,\n",
    "                columns=(df.index, 'Total_imports'),\n",
    "                key_on=\"properties.name\",\n",
    "                fill_color=\"Pastel2\",\n",
    "                fill_opacity=.7,\n",
    "                line_opacity=.1,\n",
    "                nan_fill_color='gray',\n",
    "                line_color = \"#0000\",\n",
    "                show=True,\n",
    "                overlay=True,\n",
    "                nan_fill_opacity=0.1,\n",
    "                legend_name='Países que exportaron mercancía hacia República Dominicana (2022)',\n",
    "                highlight= True,\n",
    "                reset=True\n",
    ").add_to(mapa)\n",
    "\n",
    "f.LayerControl().add_to(mapa)\n",
    "mapa"
   ]
  },
  {
   "cell_type": "code",
   "execution_count": null,
   "id": "e313fc30",
   "metadata": {},
   "outputs": [],
   "source": [
    "save_map(mapa)"
   ]
  },
  {
   "cell_type": "code",
   "execution_count": null,
   "id": "c589997c",
   "metadata": {},
   "outputs": [],
   "source": [
    "print(\"Total de paises que importaron a República Dominicana en 2022:\", len(df.index)) "
   ]
  },
  {
   "cell_type": "code",
   "execution_count": null,
   "id": "4e361b62",
   "metadata": {},
   "outputs": [],
   "source": []
  }
 ],
 "metadata": {
  "kernelspec": {
   "display_name": "Python 3 (ipykernel)",
   "language": "python",
   "name": "python3"
  },
  "language_info": {
   "codemirror_mode": {
    "name": "ipython",
    "version": 3
   },
   "file_extension": ".py",
   "mimetype": "text/x-python",
   "name": "python",
   "nbconvert_exporter": "python",
   "pygments_lexer": "ipython3",
   "version": "3.11.5"
  }
 },
 "nbformat": 4,
 "nbformat_minor": 5
}
