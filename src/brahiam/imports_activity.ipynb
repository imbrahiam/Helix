{
 "cells": [
  {
   "cell_type": "code",
   "execution_count": null,
   "id": "6a3a0bbf",
   "metadata": {},
   "outputs": [],
   "source": [
    "from common import *\n",
    "%matplotlib inline\n",
    "\n",
    "fname = 'countries_imports_activities'\n",
    "\n",
    "output_path, save_path = set_output(fname)"
   ]
  },
  {
   "cell_type": "code",
   "execution_count": null,
   "id": "40729f9e",
   "metadata": {},
   "outputs": [],
   "source": [
    "# Reading\n",
    "path = get_rwdp()\n",
    "df = pd.read_excel(path, engine='openpyxl')"
   ]
  },
  {
   "cell_type": "code",
   "execution_count": null,
   "id": "f71cff07",
   "metadata": {},
   "outputs": [],
   "source": [
    "act = pd.DataFrame(df['Actividad_agrupada'].value_counts())\n",
    "act"
   ]
  },
  {
   "cell_type": "code",
   "execution_count": null,
   "id": "d32dac7d",
   "metadata": {},
   "outputs": [],
   "source": [
    "act = act[~(act.index == \"Sin información\")]\n",
    "act.index.names = [\"activity\"]\n",
    "act = act.sort_values(by='count', ascending=True)\n",
    "act"
   ]
  },
  {
   "cell_type": "code",
   "execution_count": null,
   "id": "b91fe19a",
   "metadata": {},
   "outputs": [],
   "source": [
    "write_csv(act, save_path)"
   ]
  },
  {
   "cell_type": "code",
   "execution_count": null,
   "id": "84aa8427",
   "metadata": {},
   "outputs": [],
   "source": [
    "x = 'Cantidad (n)'\n",
    "y = 'Actividades'\n",
    "colname = 'count'\n",
    "\n",
    "fig, ax = draw_hplot(x, y, act, colname)"
   ]
  },
  {
   "cell_type": "code",
   "execution_count": null,
   "id": "74f6ce1e",
   "metadata": {},
   "outputs": [],
   "source": [
    "save_plot(fig, 'h2', output_path)"
   ]
  }
 ],
 "metadata": {
  "kernelspec": {
   "display_name": "Python 3 (ipykernel)",
   "language": "python",
   "name": "python3"
  },
  "language_info": {
   "codemirror_mode": {
    "name": "ipython",
    "version": 3
   },
   "file_extension": ".py",
   "mimetype": "text/x-python",
   "name": "python",
   "nbconvert_exporter": "python",
   "pygments_lexer": "ipython3",
   "version": "3.11.5"
  }
 },
 "nbformat": 4,
 "nbformat_minor": 5
}
